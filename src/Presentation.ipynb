{
 "cells": [
  {
   "cell_type": "markdown",
   "metadata": {
    "slideshow": {
     "slide_type": "slide"
    }
   },
   "source": [
    "# Exponential Integrators for Stiff Systems\n",
    "\n",
    "*Numerical Methods II (Spring 2018) Final Project Presentation*\n",
    "\n",
    "Group members\n",
    "\n",
    "- Xingjian Guo (*xg703@nyu.edu*)\n",
    "\n",
    "- Shuidie Yao (*sy2328@nyu.edu*)\n",
    "\n",
    "- Hui Duan (*hd1021@nyu.edu*)\n",
    "\n",
    "Main reference: Hochbruck, M., Lubich, C., & Selhofer, H. (1998). Exponential integrators for large systems of differential equations. SIAM Journal on Scientific Computing, 19(5), 1552-1574."
   ]
  },
  {
   "cell_type": "markdown",
   "metadata": {
    "slideshow": {
     "slide_type": "slide"
    }
   },
   "source": [
    "# 1. Motivation\n",
    "\n",
    "**Stiff problems**: explicit methods performs badly.\n",
    "\n",
    "For example, the linear equation\n",
    "\n",
    "$$ u'(t) = Lu(t) $$\n",
    "  \n",
    "- Stiffness: $L$ has large negative/imaginary eigenvalues.\n",
    "  \n",
    "- Forward Euler, RK4, etc requires very small $dt$.\n",
    "\n",
    "- Solution: use implicit methods (require solving equations each step).\n",
    "\n",
    "Exponential integrators: modify the explicit methods to handle the stiffness.\n",
    "\n",
    "- For a linear system, analytic solution is known: $u(t) = e^{tL}u(0)$.\n",
    "\n",
    "- What about nonlinear equations?"
   ]
  },
  {
   "cell_type": "markdown",
   "metadata": {
    "slideshow": {
     "slide_type": "slide"
    }
   },
   "source": [
    "# 2. Derivation of the schemes\n",
    "\n",
    "Consider the **semilinear** ODE:\n",
    "\n",
    "$$ u'(t) = f(t,u) = Lu(t) + N(t,u) $$\n",
    "\n",
    "- **Assumption**: the stiffness of $f$ resides mostly in $L$.\n",
    "  \n",
    "- General $f$: $L$ is the Jacobian"
   ]
  },
  {
   "cell_type": "markdown",
   "metadata": {
    "slideshow": {
     "slide_type": "subslide"
    }
   },
   "source": [
    "Transform to the **Volterra integral equation**\n",
    "\n",
    "$$ u(t) = e^{tL}u(0) + \\int_0^te^{(t - \\tau)L}N(\\tau, u(\\tau))d\\tau $$\n",
    "  \n",
    "- Approximation to the integral → exponential integrators\n",
    "\n",
    "- First order: $N(\\tau,u(\\tau)) = N(0,u(0))$ → **Norsett-Euler** scheme\n",
    "\n",
    "  $$ u_{n+1} = e^{hL}u_n + \\frac{e^{hL} - I}{L}N(t_n,u_n) $$"
   ]
  },
  {
   "cell_type": "markdown",
   "metadata": {
    "slideshow": {
     "slide_type": "subslide"
    }
   },
   "source": [
    "General $s$-stage Runge-Kutta type exponential methods:\n",
    "\n",
    "- $c_1 = 0, 0 < c_2,c_3,\\ldots,c_s \\le 1$\n",
    "\n",
    "- At stage $i$:\n",
    "\n",
    "  $$ U_{ni} = e^{c_ihL}u(0) + h\\sum_{j=1}^{i-1}a_{ij}(hL)N_{nj},\\quad N_{ni} = N(t_n + c_ih, U_{ni}) $$\n",
    "  \n",
    "- Update:\n",
    "\n",
    "  $$u_{n+1} = e^{hL}u(0) + h\\sum_{j=1}^sb_j(hL)N_{nj}$$"
   ]
  },
  {
   "cell_type": "markdown",
   "metadata": {
    "slideshow": {
     "slide_type": "subslide"
    }
   },
   "source": [
    "Small $L$ limit: should reduce to a corresponding RK method\n",
    "\n",
    "- Norsett-Euler (1st order) → Forward Euler\n",
    "\n",
    "- Exponential midpoint (2nd order) → Explicit midpoint\n",
    "\n",
    "- Exponential Trapezoid (2nd order) → Explicit Trapezoid (Heun's method)\n",
    "\n",
    "- ETDRK4 (4th order) → RK4"
   ]
  },
  {
   "cell_type": "markdown",
   "metadata": {
    "slideshow": {
     "slide_type": "subslide"
    }
   },
   "source": [
    "**Technical details**\n",
    "\n",
    "1. The matrix functions $e^{hL}$, $a_{ij}(hL)$ and $b_j(hL)$\n",
    "\n",
    "  - Small system: rational approximations (Pade)\n",
    "  \n",
    "  - Large system: Krylov methods\n",
    "  \n",
    "2. Numerical stability issue for small $h$\n",
    "\n",
    "  - Cancellation error: e.g. $(e^z - 1)/z$"
   ]
  },
  {
   "cell_type": "markdown",
   "metadata": {
    "slideshow": {
     "slide_type": "slide"
    }
   },
   "source": [
    "# 3. Example: the Allen-Cahn equation\n",
    "\n",
    "$$ \\partial_tu = D\\Delta u + u - u^3 $$\n",
    "\n",
    "- Work in 1D.\n",
    "\n",
    "- Use 3-point finite difference approximation to the laplacian."
   ]
  }
 ],
 "metadata": {
  "celltoolbar": "Slideshow",
  "kernelspec": {
   "display_name": "Python 3",
   "language": "python",
   "name": "python3"
  },
  "language_info": {
   "codemirror_mode": {
    "name": "ipython",
    "version": 3
   },
   "file_extension": ".py",
   "mimetype": "text/x-python",
   "name": "python",
   "nbconvert_exporter": "python",
   "pygments_lexer": "ipython3",
   "version": "3.6.4"
  }
 },
 "nbformat": 4,
 "nbformat_minor": 2
}
